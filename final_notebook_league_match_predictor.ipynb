{
 "cells": [
  {
   "cell_type": "markdown",
   "id": "d4b43622",
   "metadata": {},
   "source": [
    "# Balance in League of Legends Matchmaking"
   ]
  },
  {
   "cell_type": "code",
   "execution_count": 14,
   "id": "39df8151",
   "metadata": {},
   "outputs": [],
   "source": [
    "# imports\n",
    "import pandas as pd\n",
    "import split\n",
    "import seaborn as sns\n",
    "from scipy import stats\n",
    "import modeling as md\n",
    "from sklearn.neighbors import KNeighborsClassifier\n",
    "\n",
    "# constants\n",
    "folder = 'riot_api_data/'\n",
    "target_var = 'win'\n",
    "alpha = 0.05\n"
   ]
  },
  {
   "cell_type": "markdown",
   "id": "954d7f02",
   "metadata": {},
   "source": [
    "## Project Overview:"
   ]
  },
  {
   "cell_type": "markdown",
   "id": "7cfb36af",
   "metadata": {},
   "source": [
    "### What?\n",
    "> * Determine if the ranked matchmaking system for league of legends is fair.\n",
    "> * Discover and recommend features that could be predictive of win rate advantages/disadvantages.\n",
    "\n",
    "### How?\n",
    "> * Find key drivers of winrate using aggregate player game history.\n",
    "> * Engineer features to include potential advantages that a team could have before a game starts, such as winrate discrepencies (on role, champion, and session win rates), total number of players on each team that are on their most experienced roles, and whether each team has their jungle on role versus off role.\n",
    "\n",
    "### Why?:\n",
    "\n",
    "> * Competitive games are centered around the idea of competitive integrity. The goal of a ranked matchmaking system is to, within a reasonable amount of time, give both teams an even chance to win. Being able to correctly predict which team is going to win over 50% percent of the time indicates an imbalance that gives one team an unfair advantage over the other, and identifying the key drivers of that imbalance could help Riot Games make adjustments to matchmaking parameters to create more fair and competitive games.\n",
    "\n",
    "\n"
   ]
  },
  {
   "cell_type": "markdown",
   "id": "0e0f556c",
   "metadata": {},
   "source": [
    "# Executive Summary:\n",
    "### Key Drivers:\n",
    "\n",
    "### Modeling:\n",
    "* Model was able to guess with 50% accuracy on test on which team was going to win.\n",
    "* Did not beat baseline accuracy.\n",
    "\n",
    "### Takeaways/Recommendations:\n",
    "Explore other datapoints and potential features to find drivers of winning, historical data did not play a significant role in deciding who would win a game.\n"
   ]
  },
  {
   "cell_type": "markdown",
   "id": "1b32cab0",
   "metadata": {},
   "source": [
    "# Acquire Data"
   ]
  },
  {
   "cell_type": "markdown",
   "id": "64e43cfd",
   "metadata": {},
   "source": [
    "**Acquire Goal:** Use the Riot API to collect data on a matchmade lobby and the game history of each player in a lobby."
   ]
  },
  {
   "cell_type": "code",
   "execution_count": 15,
   "id": "8d8d6e01",
   "metadata": {},
   "outputs": [
    {
     "data": {
      "text/plain": [
       "'final_df, all_blue, all_red, all_team_data = all_individual_stats.aggregate_all_stats()'"
      ]
     },
     "execution_count": 15,
     "metadata": {},
     "output_type": "execute_result"
    }
   ],
   "source": [
    "# List of Match IDs to collect data on\n",
    "\"\"\"game_nums = [4169229565, 4169245913, 4035079604, 4035079613, 4035079665, 4035079666, 4035079668, 4035079686, 4035079692, 4035079696, 4035079700, 4035079718, 4035079733, 4035089527, 4035089567, 4035089568, 4035089573, 4035089579, 4035089582, 4035089606, 4035089614, 4035089624, 4035089626, 4035089632, 4035089659, 4035089661, 4035089662, 4035089666, 4035089690, 4035089707, 4035089711, 4035089723, 4035089726, 4035098534, 4035098537, 4035098619, 4035098637, 4035098655, 4035098658, 4035098660, 4035098675, 4035098702, 4035098709, 4035098711, 4035098724, 4035098732, 4035098733, 4035098734, 4035098778, 4035098785, 4035098786, 4035098799, 4035098805, 4035098818, 4035098855, 4035098860, 4035098870, 4035098873, 4035098879, 4035098884, 4035098890, 4035098893, 4035098897, 4035098898, 4035098913, 4035098925, 4035098937, 4035098938, 4035098957, 4035098967, 4035098968, 4035098977, 4035098999, 4035099000, 4035099001, 4035099011, 4035099026, 4035099035, 4035099036, 4035099037, 4035099057, 4035099061, 4035099064, 4035099065, 4035099069, 4035099089, 4035099107, 4035099109, 4035099114, 4035099129, 4035099132, 4035099133, 4035099162, 4035099172, 4035099182, 4035099192, 4035099203, 4035099220, 4035099226, 4035099230, 4035099234, 4035099239, 4035099242, 4035099246, 4035099247, 4035099256, 4035099257, 4035099262, 4035099279, 4035099329, 4035099335, 4035099363, 4035099409, 4035099421, 4035099425, 4035099437, 4035099446, 4035099447, 4035099456, 4035099458, 4035099496, 4035099508, 4035099514, 4035099519, 4035099527, 4035099540, 4035099552, 4035099561, 4035099570, 4035099578, 4035099585, 4035099593, 4035099606, 4035099619, 4035099623, 4035099626, 4035099643, 4035099652, 4035099674, 4035099694, 4035099705, 4035099710, 4035099721, 4035099731, 4035099734, 4035108167, 4035108182, 4035108202, 4035108225, 4035108251, 4035108252, 4035108255, 4035108260, 4035108265, 4035108271, 4035108291, 4035108299, 4035108311, 4035108330, 4035108345, 4035108355, 4035108366, 4035108372, 4035108405]\"\"\"\n",
    "\n",
    "# The number to start data collection in the function,\n",
    "# This process had to be restarted many times due to \n",
    "# API rate limiting, this is a way to start where left off.\n",
    "\"\"\"error_num = 4169229565\"\"\"\n",
    "\n",
    "# Index number of error_num in above list so I can grab that match\n",
    "# and every game after.\n",
    "\"\"\"game_nums.index(error_num)\n",
    "gamma = ['NA1_'+str(num) for num in game_nums[game_nums.index(error_num):]]\"\"\"\n",
    "\n",
    "# Collect both the lobby and player histories of each lobby/match_id.\n",
    "\"\"\"for gam in gamma:\n",
    "\n",
    "    print('sleeping')\n",
    "    time.sleep(25)   # prevent exceeding rate limit\n",
    "    all_individual_stats.lobby_and_player_stats(gam)\"\"\"\n",
    "\n",
    "# Makes several dfs of stats that can be examined. \n",
    "# We're going to load the all_team_data for this project, \n",
    "# which is aggregate team data for each team in each lobby.\n",
    "\"\"\"final_df, all_blue, all_red, all_team_data = all_individual_stats.aggregate_all_stats()\"\"\""
   ]
  },
  {
   "cell_type": "markdown",
   "id": "5f25c991",
   "metadata": {},
   "source": [
    "***Code above commented out to show how data was collected, but does not run unless you have your own api key.***"
   ]
  },
  {
   "cell_type": "code",
   "execution_count": 3,
   "id": "f01bb80e",
   "metadata": {},
   "outputs": [
    {
     "name": "stdout",
     "output_type": "stream",
     "text": [
      "<class 'pandas.core.frame.DataFrame'>\n",
      "RangeIndex: 112 entries, 0 to 111\n",
      "Data columns (total 9 columns):\n",
      " #   Column                      Non-Null Count  Dtype  \n",
      "---  ------                      --------------  -----  \n",
      " 0   index                       112 non-null    int64  \n",
      " 1   total_on_role               112 non-null    int64  \n",
      " 2   mean_champ_win_rate         107 non-null    float64\n",
      " 3   mean_role_win_rate          109 non-null    float64\n",
      " 4   jg_on_role                  112 non-null    int64  \n",
      " 5   mean_session_games          108 non-null    float64\n",
      " 6   aggregate_session_win_rate  108 non-null    float64\n",
      " 7   win                         112 non-null    float64\n",
      " 8   match_id                    112 non-null    object \n",
      "dtypes: float64(5), int64(3), object(1)\n",
      "memory usage: 8.0+ KB\n"
     ]
    }
   ],
   "source": [
    "df = pd.read_csv(folder+'aggregates.csv')\n",
    "df.info()"
   ]
  },
  {
   "cell_type": "code",
   "execution_count": 4,
   "id": "09e02cf8",
   "metadata": {},
   "outputs": [
    {
     "data": {
      "text/plain": [
       "0.05357142857142857"
      ]
     },
     "execution_count": 4,
     "metadata": {},
     "output_type": "execute_result"
    }
   ],
   "source": [
    "# Find total percentage of null values\n",
    "(df.shape[0] - df.dropna().shape[0]) / df.shape[0]"
   ]
  },
  {
   "cell_type": "markdown",
   "id": "6ec12806",
   "metadata": {},
   "source": [
    "## Acquire keypoints:\n",
    "\n",
    "> * Some players didn't have a previous game history. Will affect all role and winrate features for that player.\n",
    "> * Small amount of null values, can drop them in prepare.\n",
    "> * All datatypes look how they should."
   ]
  },
  {
   "cell_type": "markdown",
   "id": "9b827286",
   "metadata": {},
   "source": [
    "# Prepare:"
   ]
  },
  {
   "cell_type": "markdown",
   "id": "32d9fb22",
   "metadata": {},
   "source": [
    "### Prepare Goals:\n",
    "* Clean data, drop missing values\n",
    "* split data into train, validate and test sets\n",
    "* Ensure data is compatible for modeling."
   ]
  },
  {
   "cell_type": "markdown",
   "id": "473ba5ce",
   "metadata": {},
   "source": [
    "### Prepare/Cleaning:"
   ]
  },
  {
   "cell_type": "code",
   "execution_count": 5,
   "id": "ba592d08",
   "metadata": {},
   "outputs": [
    {
     "data": {
      "text/html": [
       "<div>\n",
       "<style scoped>\n",
       "    .dataframe tbody tr th:only-of-type {\n",
       "        vertical-align: middle;\n",
       "    }\n",
       "\n",
       "    .dataframe tbody tr th {\n",
       "        vertical-align: top;\n",
       "    }\n",
       "\n",
       "    .dataframe thead th {\n",
       "        text-align: right;\n",
       "    }\n",
       "</style>\n",
       "<table border=\"1\" class=\"dataframe\">\n",
       "  <thead>\n",
       "    <tr style=\"text-align: right;\">\n",
       "      <th></th>\n",
       "      <th>index</th>\n",
       "      <th>total_on_role</th>\n",
       "      <th>mean_champ_win_rate</th>\n",
       "      <th>mean_role_win_rate</th>\n",
       "      <th>jg_on_role</th>\n",
       "      <th>mean_session_games</th>\n",
       "      <th>aggregate_session_win_rate</th>\n",
       "      <th>win</th>\n",
       "      <th>match_id</th>\n",
       "    </tr>\n",
       "  </thead>\n",
       "  <tbody>\n",
       "    <tr>\n",
       "      <th>0</th>\n",
       "      <td>0</td>\n",
       "      <td>0</td>\n",
       "      <td>-0.101898</td>\n",
       "      <td>-0.105035</td>\n",
       "      <td>-1</td>\n",
       "      <td>3.0</td>\n",
       "      <td>-0.111111</td>\n",
       "      <td>-1.0</td>\n",
       "      <td>NA1_4035079692</td>\n",
       "    </tr>\n",
       "    <tr>\n",
       "      <th>1</th>\n",
       "      <td>0</td>\n",
       "      <td>0</td>\n",
       "      <td>-0.183252</td>\n",
       "      <td>-0.090136</td>\n",
       "      <td>0</td>\n",
       "      <td>-0.6</td>\n",
       "      <td>-0.011364</td>\n",
       "      <td>-1.0</td>\n",
       "      <td>NA1_4035098724</td>\n",
       "    </tr>\n",
       "    <tr>\n",
       "      <th>2</th>\n",
       "      <td>0</td>\n",
       "      <td>1</td>\n",
       "      <td>-0.051555</td>\n",
       "      <td>-0.183364</td>\n",
       "      <td>0</td>\n",
       "      <td>3.2</td>\n",
       "      <td>0.378788</td>\n",
       "      <td>1.0</td>\n",
       "      <td>NA1_4035098873</td>\n",
       "    </tr>\n",
       "    <tr>\n",
       "      <th>3</th>\n",
       "      <td>0</td>\n",
       "      <td>0</td>\n",
       "      <td>0.021739</td>\n",
       "      <td>0.200000</td>\n",
       "      <td>0</td>\n",
       "      <td>0.0</td>\n",
       "      <td>0.400000</td>\n",
       "      <td>1.0</td>\n",
       "      <td>NA1_4035079686</td>\n",
       "    </tr>\n",
       "    <tr>\n",
       "      <th>4</th>\n",
       "      <td>0</td>\n",
       "      <td>-1</td>\n",
       "      <td>0.121032</td>\n",
       "      <td>0.020727</td>\n",
       "      <td>0</td>\n",
       "      <td>0.6</td>\n",
       "      <td>-0.214286</td>\n",
       "      <td>-1.0</td>\n",
       "      <td>NA1_4035099065</td>\n",
       "    </tr>\n",
       "  </tbody>\n",
       "</table>\n",
       "</div>"
      ],
      "text/plain": [
       "   index  total_on_role  mean_champ_win_rate  mean_role_win_rate  jg_on_role  \\\n",
       "0      0              0            -0.101898           -0.105035          -1   \n",
       "1      0              0            -0.183252           -0.090136           0   \n",
       "2      0              1            -0.051555           -0.183364           0   \n",
       "3      0              0             0.021739            0.200000           0   \n",
       "4      0             -1             0.121032            0.020727           0   \n",
       "\n",
       "   mean_session_games  aggregate_session_win_rate  win        match_id  \n",
       "0                 3.0                   -0.111111 -1.0  NA1_4035079692  \n",
       "1                -0.6                   -0.011364 -1.0  NA1_4035098724  \n",
       "2                 3.2                    0.378788  1.0  NA1_4035098873  \n",
       "3                 0.0                    0.400000  1.0  NA1_4035079686  \n",
       "4                 0.6                   -0.214286 -1.0  NA1_4035099065  "
      ]
     },
     "execution_count": 5,
     "metadata": {},
     "output_type": "execute_result"
    }
   ],
   "source": [
    "# drop nulls\n",
    "df = df.dropna()\n",
    "df.head()"
   ]
  },
  {
   "cell_type": "markdown",
   "id": "3a8c446a",
   "metadata": {},
   "source": [
    "### Data Splitting:"
   ]
  },
  {
   "cell_type": "code",
   "execution_count": 6,
   "id": "1bc5d809",
   "metadata": {},
   "outputs": [
    {
     "data": {
      "text/html": [
       "<div>\n",
       "<style scoped>\n",
       "    .dataframe tbody tr th:only-of-type {\n",
       "        vertical-align: middle;\n",
       "    }\n",
       "\n",
       "    .dataframe tbody tr th {\n",
       "        vertical-align: top;\n",
       "    }\n",
       "\n",
       "    .dataframe thead th {\n",
       "        text-align: right;\n",
       "    }\n",
       "</style>\n",
       "<table border=\"1\" class=\"dataframe\">\n",
       "  <thead>\n",
       "    <tr style=\"text-align: right;\">\n",
       "      <th></th>\n",
       "      <th>total_on_role</th>\n",
       "      <th>mean_champ_win_rate</th>\n",
       "      <th>mean_role_win_rate</th>\n",
       "      <th>jg_on_role</th>\n",
       "      <th>mean_session_games</th>\n",
       "      <th>aggregate_session_win_rate</th>\n",
       "      <th>win</th>\n",
       "    </tr>\n",
       "  </thead>\n",
       "  <tbody>\n",
       "    <tr>\n",
       "      <th>49</th>\n",
       "      <td>0</td>\n",
       "      <td>-0.186813</td>\n",
       "      <td>-0.192353</td>\n",
       "      <td>1</td>\n",
       "      <td>-82.0</td>\n",
       "      <td>0.212121</td>\n",
       "      <td>-1.0</td>\n",
       "    </tr>\n",
       "    <tr>\n",
       "      <th>11</th>\n",
       "      <td>1</td>\n",
       "      <td>0.118095</td>\n",
       "      <td>-0.214851</td>\n",
       "      <td>1</td>\n",
       "      <td>0.6</td>\n",
       "      <td>0.257143</td>\n",
       "      <td>1.0</td>\n",
       "    </tr>\n",
       "    <tr>\n",
       "      <th>14</th>\n",
       "      <td>1</td>\n",
       "      <td>0.555556</td>\n",
       "      <td>-0.293561</td>\n",
       "      <td>0</td>\n",
       "      <td>1.0</td>\n",
       "      <td>-0.291667</td>\n",
       "      <td>1.0</td>\n",
       "    </tr>\n",
       "  </tbody>\n",
       "</table>\n",
       "</div>"
      ],
      "text/plain": [
       "    total_on_role  mean_champ_win_rate  mean_role_win_rate  jg_on_role  \\\n",
       "49              0            -0.186813           -0.192353           1   \n",
       "11              1             0.118095           -0.214851           1   \n",
       "14              1             0.555556           -0.293561           0   \n",
       "\n",
       "    mean_session_games  aggregate_session_win_rate  win  \n",
       "49               -82.0                    0.212121 -1.0  \n",
       "11                 0.6                    0.257143  1.0  \n",
       "14                 1.0                   -0.291667  1.0  "
      ]
     },
     "execution_count": 6,
     "metadata": {},
     "output_type": "execute_result"
    }
   ],
   "source": [
    "train, validate, test = split.train_validate_test_split(df.drop(columns=['match_id','index']), target_var)\n",
    "train.head(3)"
   ]
  },
  {
   "cell_type": "markdown",
   "id": "d1b34d0c",
   "metadata": {},
   "source": [
    "### Peparation Takeaways:"
   ]
  },
  {
   "cell_type": "markdown",
   "id": "b79c35ec",
   "metadata": {},
   "source": [
    "* Null Values dropped\n",
    "* Code split into training, validate and test splits. "
   ]
  },
  {
   "cell_type": "markdown",
   "id": "43fbf798",
   "metadata": {},
   "source": [
    "# Exploration:"
   ]
  },
  {
   "cell_type": "markdown",
   "id": "fb7053ba",
   "metadata": {},
   "source": [
    "**Exploration Goals:**\n",
    "   * find drivers of winning\n",
    "   * Get insight into how player history affects their chances of winning.\n",
    "   * Visualize and hypothesis test to understand our theories.\n",
    "   * Use results to make conclusions and recommendations."
   ]
  },
  {
   "cell_type": "markdown",
   "id": "b3d3c22b",
   "metadata": {},
   "source": [
    "## Question 1: Is the teams' mean historical winrate on their champions related to winning the current game?"
   ]
  },
  {
   "cell_type": "code",
   "execution_count": 7,
   "id": "17563945",
   "metadata": {
    "scrolled": true
   },
   "outputs": [
    {
     "data": {
      "text/plain": [
       "<AxesSubplot:xlabel='mean_champ_win_rate', ylabel='Count'>"
      ]
     },
     "execution_count": 7,
     "metadata": {},
     "output_type": "execute_result"
    },
    {
     "data": {
      "image/png": "[encoded data removed]",
      "text/plain": [
       "<Figure size 432x288 with 1 Axes>"
      ]
     },
     "metadata": {
      "needs_background": "light"
     },
     "output_type": "display_data"
    }
   ],
   "source": [
    "# histogram of mean champ win rate split by win status\n",
    "sns.histplot(x=train.mean_champ_win_rate, hue=train.win)"
   ]
  },
  {
   "cell_type": "markdown",
   "id": "6f81bfbc",
   "metadata": {},
   "source": [
    "### Takeaways:\n",
    "* Mean champion win rate looks normally distributed, meets the assumptions for T-Testing.\n",
    "* There doesn't seem to be a consistent pattern between mean champ win rate and which team wins."
   ]
  },
  {
   "cell_type": "markdown",
   "id": "6165b61d",
   "metadata": {},
   "source": [
    "### Hypothesis Testing:\n",
    "**Null Hypothesis:** Historical Champion Win rate has significant relation to winning.\n",
    "**Alternative Hypothesis:** Historical Champion Win rate has no significant relation to winning."
   ]
  },
  {
   "cell_type": "code",
   "execution_count": 8,
   "id": "89d7609b",
   "metadata": {},
   "outputs": [
    {
     "name": "stdout",
     "output_type": "stream",
     "text": [
      "We accept the Null Hypothesis that champion win rate has no significant relation to winning.\n"
     ]
    }
   ],
   "source": [
    "# Gathering test statistics and p value\n",
    "t, p = stats.ttest_ind(train.win, train.mean_champ_win_rate)\n",
    "\n",
    "if p < alpha:\n",
    "    print('We reject the Null Hypothesis that champion win rate has no significant relation to winning.')\n",
    "else:\n",
    "    print('We accept the Null Hypothesis that champion win rate has no significant relation to winning.')"
   ]
  },
  {
   "cell_type": "markdown",
   "id": "7bd50ef7",
   "metadata": {},
   "source": [
    "### Takeaway:\n",
    "There is no evidence that historical champion win rate has a significant relation to the outcome of the current game."
   ]
  },
  {
   "cell_type": "markdown",
   "id": "6e8d3fc7",
   "metadata": {},
   "source": [
    "## Question 2: Does having a jungle on role advantage affect winning?"
   ]
  },
  {
   "cell_type": "code",
   "execution_count": 9,
   "id": "5cb37e9a",
   "metadata": {
    "scrolled": false
   },
   "outputs": [
    {
     "data": {
      "text/plain": [
       "<AxesSubplot:xlabel='jg_on_role', ylabel='Count'>"
      ]
     },
     "execution_count": 9,
     "metadata": {},
     "output_type": "execute_result"
    },
    {
     "data": {
      "image/png": "[encoded data removed]",
      "text/plain": [
       "<Figure size 432x288 with 1 Axes>"
      ]
     },
     "metadata": {
      "needs_background": "light"
     },
     "output_type": "display_data"
    }
   ],
   "source": [
    "# violin plot of jg_on_role \n",
    "sns.histplot(x=train.jg_on_role, hue=train.win)"
   ]
  },
  {
   "cell_type": "markdown",
   "id": "249bd220",
   "metadata": {},
   "source": [
    "### Hypothesis Testing:\n",
    "**Null Hypothesis:** Jungle on role does not have a significant relation to winning/losing.\n",
    "**Alternative Hypothesis:** Jungle on role does have a signiifcant relation to winning/losing."
   ]
  },
  {
   "cell_type": "code",
   "execution_count": 10,
   "id": "b8d419cf",
   "metadata": {},
   "outputs": [
    {
     "name": "stdout",
     "output_type": "stream",
     "text": [
      "We accept the Null Hypothesis.\n"
     ]
    }
   ],
   "source": [
    "# chi square testing\n",
    "observed = pd.crosstab(train.win, train.jg_on_role)\n",
    "chi, p, degf, expected = stats.chi2_contingency(observed)\n",
    "\n",
    "if p < alpha:\n",
    "    print('We reject the Null Hypothesis that Jungle On Role has no significant relation to winning/losing.')\n",
    "else:\n",
    "    print('We accept the Null Hypothesis.')"
   ]
  },
  {
   "cell_type": "markdown",
   "id": "06282561",
   "metadata": {},
   "source": [
    "### Takeaway:\n",
    "* Jungle advantage does not seem to have a significant change for winning except potentially for blue side (jg_on_role==1).\n",
    "* More data is probably required to decided if this is noise or not.\n",
    "* Chi square testing let's us accept the Null Hypothesis that Jungle On Role does not have a statistically significant relation to winning/losing."
   ]
  },
  {
   "cell_type": "markdown",
   "id": "b4926d05",
   "metadata": {},
   "source": [
    "# Model And Evaluate:"
   ]
  },
  {
   "cell_type": "code",
   "execution_count": 11,
   "id": "db8ce108",
   "metadata": {},
   "outputs": [
    {
     "name": "stdout",
     "output_type": "stream",
     "text": [
      "Baseline accuracy is win == 1: 51.72%\n"
     ]
    }
   ],
   "source": [
    "# set baseline\n",
    "base_guess = train.win.value_counts().idxmax()\n",
    "\n",
    "md.Results.baseline = (train.win == base_guess).mean()\n",
    "print(f'Baseline accuracy is '\n",
    "      f'win == 1: {round(md.Results.baseline * 100,2)}%')"
   ]
  },
  {
   "cell_type": "markdown",
   "id": "0b049d0a",
   "metadata": {},
   "source": [
    "If I predicted that every team would win, I would have an accuracy of 51.7%, which is close to the theoretical ideal of 50%.\n",
    "This is the baseline accuracy that I'm trying to outperform.\n"
   ]
  },
  {
   "cell_type": "markdown",
   "id": "82a0c691",
   "metadata": {},
   "source": [
    "I'm going to try Logistic Regression, Random Forests, Decision Trees, and KNearest Neighbors to try and create a predicitve classification model.\n",
    "\n",
    "I've written functions to adjust the parameters for the following:\n",
    "\n",
    "* **Decision Trees:**\n",
    "  * depth\n",
    "* **Random Forests:**\n",
    "  * depth\n",
    "  * min samples leaf\n",
    "* **KNearestNeighbor:**\n",
    "  * n_neighbors\n",
    "  * weights (uniform, distance)\n",
    "* **Logistic Regression:**\n",
    "  * C\n",
    "  * solver (lbgfs, liblinear)\n",
    "  * fit_intercept, intercept_scaling\n",
    "  \n",
    "*Random State set to 123 where possible.*"
   ]
  },
  {
   "cell_type": "markdown",
   "id": "22a65826",
   "metadata": {},
   "source": [
    "## Modeling Code:"
   ]
  },
  {
   "cell_type": "code",
   "execution_count": 12,
   "id": "fb3f0ac3",
   "metadata": {},
   "outputs": [
    {
     "data": {
      "text/html": [
       "<div>\n",
       "<style scoped>\n",
       "    .dataframe tbody tr th:only-of-type {\n",
       "        vertical-align: middle;\n",
       "    }\n",
       "\n",
       "    .dataframe tbody tr th {\n",
       "        vertical-align: top;\n",
       "    }\n",
       "\n",
       "    .dataframe thead th {\n",
       "        text-align: right;\n",
       "    }\n",
       "</style>\n",
       "<table border=\"1\" class=\"dataframe\">\n",
       "  <thead>\n",
       "    <tr style=\"text-align: right;\">\n",
       "      <th></th>\n",
       "      <th>model_type</th>\n",
       "      <th>n_nearest_neighbor</th>\n",
       "      <th>train_accuracy</th>\n",
       "      <th>validate_accuracy</th>\n",
       "    </tr>\n",
       "  </thead>\n",
       "  <tbody>\n",
       "    <tr>\n",
       "      <th>10</th>\n",
       "      <td>knn_uniform</td>\n",
       "      <td>11.0</td>\n",
       "      <td>0.586207</td>\n",
       "      <td>0.615385</td>\n",
       "    </tr>\n",
       "    <tr>\n",
       "      <th>24</th>\n",
       "      <td>knn_distance</td>\n",
       "      <td>11.0</td>\n",
       "      <td>1.000000</td>\n",
       "      <td>0.615385</td>\n",
       "    </tr>\n",
       "    <tr>\n",
       "      <th>4</th>\n",
       "      <td>random_forests</td>\n",
       "      <td>NaN</td>\n",
       "      <td>0.689655</td>\n",
       "      <td>0.576923</td>\n",
       "    </tr>\n",
       "    <tr>\n",
       "      <th>27</th>\n",
       "      <td>knn_distance</td>\n",
       "      <td>14.0</td>\n",
       "      <td>1.000000</td>\n",
       "      <td>0.576923</td>\n",
       "    </tr>\n",
       "    <tr>\n",
       "      <th>26</th>\n",
       "      <td>knn_distance</td>\n",
       "      <td>13.0</td>\n",
       "      <td>1.000000</td>\n",
       "      <td>0.576923</td>\n",
       "    </tr>\n",
       "  </tbody>\n",
       "</table>\n",
       "</div>"
      ],
      "text/plain": [
       "        model_type  n_nearest_neighbor  train_accuracy  validate_accuracy\n",
       "10     knn_uniform                11.0        0.586207           0.615385\n",
       "24    knn_distance                11.0        1.000000           0.615385\n",
       "4   random_forests                 NaN        0.689655           0.576923\n",
       "27    knn_distance                14.0        1.000000           0.576923\n",
       "26    knn_distance                13.0        1.000000           0.576923"
      ]
     },
     "execution_count": 12,
     "metadata": {},
     "output_type": "execute_result"
    }
   ],
   "source": [
    "# create iterations of models, group them into Result objects that I made in modeling.py\n",
    "dt_mods, rf_mods, knn_mods, lr_mods = md.all_reports(train, validate, test, target_var)\n",
    "md.Results.total_summary[['model_type', 'n_nearest_neighbor', 'train_accuracy', 'validate_accuracy']].sort_values(by='validate_accuracy', ascending=False).head()"
   ]
  },
  {
   "cell_type": "markdown",
   "id": "080416d4",
   "metadata": {},
   "source": [
    "## Takeaways from modeling:\n",
    "* All models beat baseline, althogh knn_distance seems to be way overfit.\n",
    "* knn_uniform has the best balance between train and validate, while actually performing better on validate.\n",
    "* My best knn_uniform model performed with **61.54%** accuracy on our validate set. This model beats baseline accuracy by **21.38%** and will be the model I use on the test set."
   ]
  },
  {
   "cell_type": "markdown",
   "id": "dab42fb3",
   "metadata": {},
   "source": [
    "## Test Best Model"
   ]
  },
  {
   "cell_type": "code",
   "execution_count": 13,
   "id": "8b9e1cde",
   "metadata": {},
   "outputs": [
    {
     "name": "stdout",
     "output_type": "stream",
     "text": [
      "Test Accuracy: 68.18%\n",
      "Validate Accuracy: 61.54%\n",
      "Train Accuracy: 58.62%\n"
     ]
    }
   ],
   "source": [
    "knn_uniform = KNeighborsClassifier(n_neighbors=11, weights='uniform')\n",
    "\n",
    "x_train = train.drop(columns=[target_var])\n",
    "y_train = train[target_var]\n",
    "\n",
    "x_validate = validate.drop(columns=[target_var])\n",
    "y_validate = validate[target_var]\n",
    "\n",
    "knn_uniform = knn_uniform.fit(x_train, y_train)\n",
    "\n",
    "X_test = test.drop(columns=[target_var])\n",
    "Y_test = test[target_var]\n",
    "\n",
    "y_pred_test = knn_uniform.predict(X_test)\n",
    "\n",
    "accuracy = knn_uniform.score(X_test, Y_test)\n",
    "print(f'Test Accuracy: {round(accuracy * 100, 2)}%')\n",
    "\n",
    "accuracy = knn_uniform.score(x_validate, y_validate)\n",
    "print(f'Validate Accuracy: {round(accuracy * 100, 2)}%')\n",
    "\n",
    "accuracy = knn_uniform.score(x_train, y_train)\n",
    "print(f'Train Accuracy: {round(accuracy * 100, 2)}%')"
   ]
  },
  {
   "cell_type": "markdown",
   "id": "9a52092e",
   "metadata": {},
   "source": [
    "### Takeaway:\n",
    "Test accuracy **68.18%** accurate, beating our baseline of 51.7% by **32.5%**. The variability between test, validate, and train accuracies leads me to believe that I need more data to train and test on."
   ]
  },
  {
   "cell_type": "markdown",
   "id": "0dc7b2c5",
   "metadata": {},
   "source": [
    "## Conclusions & Recommendations"
   ]
  },
  {
   "cell_type": "markdown",
   "id": "d7e439ea",
   "metadata": {},
   "source": [
    "**Conclusion:** Using the features of team champion win rate, team on role winrate, total number of on role players, and session winrate, I was ultimately unable to find any statistical significance affecting winrate."
   ]
  },
  {
   "cell_type": "markdown",
   "id": "fdc34082",
   "metadata": {},
   "source": [
    "### Model:\n",
    "* Knn_uniform performed with an accuracy of **68.18%** accuracy, beating baseline by **32.5%**. Again, I belive more data is needed before taking these accuracies at face value."
   ]
  },
  {
   "cell_type": "markdown",
   "id": "507c767c",
   "metadata": {},
   "source": [
    "### Recommendations:\n",
    "* Further exploration and feature engineering can be conducted to find drivers of win rate that are statistically significant. \n",
    "* Because of the high variability in train/validate/test accuracies and the smaller amount of data available, I wouldn't use this model to make outcome predictions and would put priority on acquiring more data."
   ]
  }
 ],
 "metadata": {
  "kernelspec": {
   "display_name": "Python 3 (ipykernel)",
   "language": "python",
   "name": "python3"
  },
  "language_info": {
   "codemirror_mode": {
    "name": "ipython",
    "version": 3
   },
   "file_extension": ".py",
   "mimetype": "text/x-python",
   "name": "python",
   "nbconvert_exporter": "python",
   "pygments_lexer": "ipython3",
   "version": "3.9.7"
  }
 },
 "nbformat": 4,
 "nbformat_minor": 5
}
